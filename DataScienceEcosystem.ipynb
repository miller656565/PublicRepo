{
 "cells": [
  {
   "attachments": {},
   "cell_type": "markdown",
   "id": "b348ef14",
   "metadata": {},
   "source": [
    "# Data Science Tools and Ecosystem"
   ]
  },
  {
   "attachments": {},
   "cell_type": "markdown",
   "id": "3d83bbe7",
   "metadata": {},
   "source": [
    "## In this notebook, Data Science Tools and Ecosystem are summarized.\n",
    "\n"
   ]
  },
  {
   "attachments": {},
   "cell_type": "markdown",
   "id": "05fc2ac2",
   "metadata": {},
   "source": [
    "**Objectives:**\n",
    "- Arithmetic expressions in Python\n",
    "- AI tools used for Data Science\n",
    "- Programming languages commonly utilized in Data Science"
   ]
  },
  {
   "attachments": {},
   "cell_type": "markdown",
   "id": "1bef9537",
   "metadata": {},
   "source": [
    "### Some of the popular languages that Data Scientists use are:\n",
    "\n",
    "1. Python\n",
    "2. C#\n",
    "3. R\n",
    "4. SQL"
   ]
  },
  {
   "attachments": {},
   "cell_type": "markdown",
   "id": "21f8c285",
   "metadata": {},
   "source": [
    "### Some of the commonly used libraries used by Data Scientists include:\n",
    "\n",
    "1. Pandas\n",
    "2. GGPlot\n",
    "3. Seaborn\n",
    "4. MatPlotLib\n",
    "5. NumPy"
   ]
  },
  {
   "attachments": {},
   "cell_type": "markdown",
   "id": "6fde5484",
   "metadata": {},
   "source": [
    "| Data Science Tools |\n",
    "----------------------\n",
    "| Apache Spark |\n",
    "| Jupyter Notebook |\n",
    "| RStudio |"
   ]
  },
  {
   "attachments": {},
   "cell_type": "markdown",
   "id": "9a8bc6bd",
   "metadata": {},
   "source": [
    "### Below are a few examples of evaluating arithmetic expressions in Python"
   ]
  },
  {
   "cell_type": "code",
   "execution_count": 14,
   "id": "a4015512",
   "metadata": {},
   "outputs": [
    {
     "data": {
      "text/plain": [
       "17"
      ]
     },
     "execution_count": 14,
     "metadata": {},
     "output_type": "execute_result"
    }
   ],
   "source": [
    "# This is a simple arithmetic expression to multiply then add integers. \n",
    "(3*4)+5"
   ]
  },
  {
   "cell_type": "code",
   "execution_count": 15,
   "id": "1bea771f",
   "metadata": {},
   "outputs": [
    {
     "data": {
      "text/plain": [
       "3.3333333333333335"
      ]
     },
     "execution_count": 15,
     "metadata": {},
     "output_type": "execute_result"
    }
   ],
   "source": [
    "# This will convert 200 minutes to hours by dividing by 60\n",
    "200/60"
   ]
  },
  {
   "attachments": {},
   "cell_type": "markdown",
   "id": "d7a5754f",
   "metadata": {},
   "source": [
    "## Author\n",
    "Andrew Miller"
   ]
  }
 ],
 "metadata": {
  "kernelspec": {
   "display_name": "Python 3",
   "language": "python",
   "name": "python3"
  },
  "language_info": {
   "codemirror_mode": {
    "name": "ipython",
    "version": 3
   },
   "file_extension": ".py",
   "mimetype": "text/x-python",
   "name": "python",
   "nbconvert_exporter": "python",
   "pygments_lexer": "ipython3",
   "version": "3.11.9"
  }
 },
 "nbformat": 4,
 "nbformat_minor": 5
}
